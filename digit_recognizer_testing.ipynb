{
 "cells": [
  {
   "cell_type": "markdown",
   "metadata": {},
   "source": [
    "If error occur, you may try remove the ocr_responses.data and ocr_training.data, then run digit_recognizer_training.ipynb again and re-build the 2 data files.\n",
    "\n",
    "see also https://medium.com/@sudhirjain01dec/optical-character-recognizer-using-knn-and-opencv-part2-57637649079c"
   ]
  },
  {
   "cell_type": "code",
   "execution_count": 16,
   "metadata": {},
   "outputs": [
    {
     "name": "stdout",
     "output_type": "stream",
     "text": [
      "i 3\n",
      "Detected object:  +11\n"
     ]
    },
    {
     "data": {
      "image/png": "[encoded data removed]",
      "text/plain": [
       "<Figure size 432x288 with 1 Axes>"
      ]
     },
     "metadata": {},
     "output_type": "display_data"
    },
    {
     "data": {
      "image/png": "[encoded data removed]",
      "text/plain": [
       "<Figure size 432x288 with 1 Axes>"
      ]
     },
     "metadata": {},
     "output_type": "display_data"
    }
   ],
   "source": [
    "################################################################\n",
    "# Previous file name: digit_recognizer_testing.py               #\n",
    "# Description: Recognize and test digits on an image.           #\n",
    "# original Author: Gökhan Sari                                  #\n",
    "#################################################################\n",
    "\n",
    "import cv2\n",
    "import numpy as np\n",
    "import matplotlib.pyplot as plt\n",
    "%matplotlib inline\n",
    "\n",
    "def test():\n",
    "    pic_name=\"1+1.png\"\n",
    "    \n",
    "    contour_dimension_from_h=14\n",
    "    contour_dimension_to_h=23\n",
    "    \n",
    "    samples = np.loadtxt('./ocr_training.data', np.float32)\n",
    "    responses = np.loadtxt('./ocr_responses.data', np.float32)            \n",
    "    responses = responses.reshape((responses.size, 1))\n",
    "    \n",
    "    \n",
    "    # reponses are chr of \"+, 9... 2, 1\"\n",
    "    \n",
    "    #image_to_test = Pic(pic_name=\"1+1.png\", contour_dimension_from_h=21, contour_dimension_to_h=28)\n",
    "    model = cv2.ml.KNearest_create()\n",
    "    # model.train (training data , cv2.ml.ROW_SAMPLE, training label)\n",
    "    model.train(samples, cv2.ml.ROW_SAMPLE, responses)\n",
    "    \n",
    "    \n",
    "    im = cv2.imread(pic_name)\n",
    "    out = np.zeros(im.shape, np.uint8)\n",
    "    gray = cv2.cvtColor(im, cv2.COLOR_BGR2GRAY)    \n",
    "    blur = cv2.GaussianBlur(gray, (5, 5), 0)\n",
    "    thresh = cv2.adaptiveThreshold(blur, 255, 1, 1, 11, 1)\n",
    "    \n",
    "    strDetectedObj = \"\";\n",
    "    _, contours, hierarchy = cv2.findContours(thresh, cv2.RETR_LIST, cv2.CHAIN_APPROX_SIMPLE)\n",
    "    \n",
    "    i=0\n",
    "    # len(contours) = 64\n",
    "    for cnt in contours:\n",
    "        #if cv2.contourArea(cnt) > contour_dimension_to_h:\n",
    "\n",
    "        if cv2.contourArea(cnt) > (contour_dimension_to_h * 2):            \n",
    "            i=i+1\n",
    "            [x, y, w, h] = cv2.boundingRect(cnt)\n",
    "            \n",
    "            if h > contour_dimension_from_h and h < contour_dimension_to_h:\n",
    "                \n",
    "                cv2.rectangle(im, (x - 1, y - 1), (x + 1 + w, y + 1 + h), (255, 0, 0), 1)\n",
    "                roi = thresh[y:y + h, x:x + w]\n",
    "                roismall = cv2.resize(roi, (10, 10))\n",
    "\n",
    "                roismall = roismall.reshape((1, 100))\n",
    "                roismall = np.float32(roismall)\n",
    "                retval, results, neigh_resp, dists = model.findNearest(roismall, k=1)\n",
    "                                \n",
    "                string = str(chr(int((results[0][0]))))\n",
    "                \n",
    "                strDetectedObj += string\n",
    "                cv2.putText(out, string, (x, y + h), 0, 1, (0, 255, 0))\n",
    "    print('i',i)           \n",
    "    print(\"Detected object: \", strDetectedObj)\n",
    "    \n",
    "    plt.imshow(im,cmap='gray')\n",
    "    plt.show()\n",
    "\n",
    "    plt.imshow(out,cmap='gray')\n",
    "    plt.show()\n",
    "    \n",
    "test()"
   ]
  },
  {
   "cell_type": "code",
   "execution_count": null,
   "metadata": {
    "collapsed": true
   },
   "outputs": [],
   "source": []
  },
  {
   "cell_type": "code",
   "execution_count": null,
   "metadata": {
    "collapsed": true
   },
   "outputs": [],
   "source": []
  }
 ],
 "metadata": {
  "kernelspec": {
   "display_name": "Python 3",
   "language": "python",
   "name": "python3"
  },
  "language_info": {
   "codemirror_mode": {
    "name": "ipython",
    "version": 3
   },
   "file_extension": ".py",
   "mimetype": "text/x-python",
   "name": "python",
   "nbconvert_exporter": "python",
   "pygments_lexer": "ipython3",
   "version": "3.6.4"
  }
 },
 "nbformat": 4,
 "nbformat_minor": 2
}
